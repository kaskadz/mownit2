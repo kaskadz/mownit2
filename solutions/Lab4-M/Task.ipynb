{
 "cells": [
  {
   "cell_type": "code",
   "execution_count": 9,
   "metadata": {
    "ExecuteTime": {
     "end_time": "2018-11-30T07:39:04.105398Z",
     "start_time": "2018-11-30T07:39:04.069Z"
    }
   },
   "outputs": [],
   "source": [
    "library(\"ggplot2\")\n",
    "library(reshape)\n",
    "require(utils)"
   ]
  },
  {
   "cell_type": "code",
   "execution_count": 10,
   "metadata": {
    "ExecuteTime": {
     "end_time": "2018-11-30T07:39:04.619054Z",
     "start_time": "2018-11-30T07:39:04.587Z"
    }
   },
   "outputs": [],
   "source": [
    "results = read.csv(\"results.csv\")"
   ]
  },
  {
   "cell_type": "code",
   "execution_count": 11,
   "metadata": {
    "ExecuteTime": {
     "end_time": "2018-11-30T07:39:05.223901Z",
     "start_time": "2018-11-30T07:39:05.180Z"
    }
   },
   "outputs": [],
   "source": [
    "## Summarizes data.\n",
    "## Gives count, mean, standard deviation, standard error of the mean, and confidence interval (default 95%).\n",
    "##   data: a data frame.\n",
    "##   measurevar: the name of a column that contains the variable to be summariezed\n",
    "##   groupvars: a vector containing names of columns that contain grouping variables\n",
    "##   na.rm: a boolean that indicates whether to ignore NA's\n",
    "##   conf.interval: the percent range of the confidence interval (default is 95%)\n",
    "summarySE <- function(data=NULL, measurevar, groupvars=NULL, na.rm=FALSE,\n",
    "                      conf.interval=.95, .drop=TRUE) {\n",
    "    library(plyr)\n",
    "\n",
    "    # New version of length which can handle NA's: if na.rm==T, don't count them\n",
    "    length2 <- function (x, na.rm=FALSE) {\n",
    "        if (na.rm) sum(!is.na(x))\n",
    "        else       length(x)\n",
    "    }\n",
    "\n",
    "    # This does the summary. For each group's data frame, return a vector with\n",
    "    # N, mean, and sd\n",
    "    datac <- ddply(data, groupvars, .drop=.drop,\n",
    "      .fun = function(xx, col) {\n",
    "        c(N    = length2(xx[[col]], na.rm=na.rm),\n",
    "          mean = mean   (xx[[col]], na.rm=na.rm),\n",
    "          sd   = sd     (xx[[col]], na.rm=na.rm)\n",
    "        )\n",
    "      },\n",
    "      measurevar\n",
    "    )\n",
    "\n",
    "    # Rename the \"mean\" column    \n",
    "    datac <- rename(datac, c(\"mean\" = measurevar))\n",
    "\n",
    "    datac$se <- datac$sd / sqrt(datac$N)  # Calculate standard error of the mean\n",
    "\n",
    "    # Confidence interval multiplier for standard error\n",
    "    # Calculate t-statistic for confidence interval: \n",
    "    # e.g., if conf.interval is .95, use .975 (above/below), and use df=N-1\n",
    "    ciMult <- qt(conf.interval/2 + .5, datac$N-1)\n",
    "    datac$ci <- datac$se * ciMult\n",
    "\n",
    "    return(datac)\n",
    "}"
   ]
  },
  {
   "cell_type": "code",
   "execution_count": 13,
   "metadata": {
    "ExecuteTime": {
     "end_time": "2018-11-30T07:39:10.390650Z",
     "start_time": "2018-11-30T07:39:10.280Z"
    }
   },
   "outputs": [
    {
     "data": {
      "text/html": [
       "<table>\n",
       "<thead><tr><th scope=col>type</th><th scope=col>size</th><th scope=col>N</th><th scope=col>time</th><th scope=col>sd</th><th scope=col>se</th><th scope=col>ci</th></tr></thead>\n",
       "<tbody>\n",
       "\t<tr><td>better      </td><td>   1        </td><td>10          </td><td>  0.0000052 </td><td>4.216370e-07</td><td>1.333333e-07</td><td>3.016210e-07</td></tr>\n",
       "\t<tr><td>better      </td><td>  50        </td><td>10          </td><td>  0.0017575 </td><td>2.146132e-03</td><td>6.786666e-04</td><td>1.535251e-03</td></tr>\n",
       "\t<tr><td>better      </td><td> 100        </td><td>10          </td><td>  0.0230850 </td><td>7.928470e-03</td><td>2.507202e-03</td><td>5.671686e-03</td></tr>\n",
       "\t<tr><td>better      </td><td> 500        </td><td>10          </td><td>  1.6838839 </td><td>5.946372e-01</td><td>1.880408e-01</td><td>4.253778e-01</td></tr>\n",
       "\t<tr><td>better      </td><td>1000        </td><td>10          </td><td> 12.5741224 </td><td>4.899275e+00</td><td>1.549287e+00</td><td>3.504730e+00</td></tr>\n",
       "\t<tr><td>better      </td><td>1100        </td><td>10          </td><td> 17.8753681 </td><td>8.147657e+00</td><td>2.576515e+00</td><td>5.828483e+00</td></tr>\n",
       "\t<tr><td>better      </td><td>1200        </td><td>10          </td><td> 23.8305315 </td><td>5.229436e+00</td><td>1.653693e+00</td><td>3.740913e+00</td></tr>\n",
       "\t<tr><td>better      </td><td>1300        </td><td>10          </td><td> 32.7109006 </td><td>9.224926e+00</td><td>2.917178e+00</td><td>6.599114e+00</td></tr>\n",
       "\t<tr><td>better      </td><td>1400        </td><td>10          </td><td> 40.0962123 </td><td>6.301266e+00</td><td>1.992635e+00</td><td>4.507654e+00</td></tr>\n",
       "\t<tr><td>better      </td><td>1500        </td><td>10          </td><td> 61.5730039 </td><td>1.617896e+01</td><td>5.116237e+00</td><td>1.157373e+01</td></tr>\n",
       "\t<tr><td>blas        </td><td>   1        </td><td>10          </td><td>  0.0000054 </td><td>5.163978e-07</td><td>1.632993e-07</td><td>3.694087e-07</td></tr>\n",
       "\t<tr><td>blas        </td><td>  50        </td><td>10          </td><td>  0.0004610 </td><td>1.014466e-03</td><td>3.208023e-04</td><td>7.257053e-04</td></tr>\n",
       "\t<tr><td>blas        </td><td> 100        </td><td>10          </td><td>  0.0027920 </td><td>1.625718e-03</td><td>5.140973e-04</td><td>1.162969e-03</td></tr>\n",
       "\t<tr><td>blas        </td><td> 500        </td><td>10          </td><td>  0.5551122 </td><td>1.647361e-01</td><td>5.209414e-02</td><td>1.178451e-01</td></tr>\n",
       "\t<tr><td>blas        </td><td>1000        </td><td>10          </td><td>  2.9032139 </td><td>6.845849e-01</td><td>2.164848e-01</td><td>4.897226e-01</td></tr>\n",
       "\t<tr><td>blas        </td><td>1100        </td><td>10          </td><td>  4.3202028 </td><td>1.647376e+00</td><td>5.209462e-01</td><td>1.178462e+00</td></tr>\n",
       "\t<tr><td>blas        </td><td>1200        </td><td>10          </td><td>  5.1873439 </td><td>1.211549e+00</td><td>3.831256e-01</td><td>8.666903e-01</td></tr>\n",
       "\t<tr><td>blas        </td><td>1300        </td><td>10          </td><td>  7.7354264 </td><td>2.079530e+00</td><td>6.576052e-01</td><td>1.487606e+00</td></tr>\n",
       "\t<tr><td>blas        </td><td>1400        </td><td>10          </td><td>  8.2461256 </td><td>1.919975e+00</td><td>6.071494e-01</td><td>1.373467e+00</td></tr>\n",
       "\t<tr><td>blas        </td><td>1500        </td><td>10          </td><td> 13.9994792 </td><td>6.340991e+00</td><td>2.005197e+00</td><td>4.536071e+00</td></tr>\n",
       "\t<tr><td>naive       </td><td>   1        </td><td>10          </td><td>  0.0000051 </td><td>3.162278e-07</td><td>1.000000e-07</td><td>2.262157e-07</td></tr>\n",
       "\t<tr><td>naive       </td><td>  50        </td><td>10          </td><td>  0.0014636 </td><td>1.352431e-03</td><td>4.276764e-04</td><td>9.674711e-04</td></tr>\n",
       "\t<tr><td>naive       </td><td> 100        </td><td>10          </td><td>  0.0244978 </td><td>6.938433e-03</td><td>2.194125e-03</td><td>4.963456e-03</td></tr>\n",
       "\t<tr><td>naive       </td><td> 500        </td><td>10          </td><td>  1.9343614 </td><td>3.739199e-01</td><td>1.182439e-01</td><td>2.674862e-01</td></tr>\n",
       "\t<tr><td>naive       </td><td>1000        </td><td>10          </td><td> 17.5381432 </td><td>6.669111e+00</td><td>2.108958e+00</td><td>4.770795e+00</td></tr>\n",
       "\t<tr><td>naive       </td><td>1100        </td><td>10          </td><td> 31.2613964 </td><td>9.369559e+00</td><td>2.962915e+00</td><td>6.702578e+00</td></tr>\n",
       "\t<tr><td>naive       </td><td>1200        </td><td>10          </td><td> 42.8949371 </td><td>4.262659e+00</td><td>1.347971e+00</td><td>3.049323e+00</td></tr>\n",
       "\t<tr><td>naive       </td><td>1300        </td><td>10          </td><td> 59.9928693 </td><td>1.255112e+01</td><td>3.969013e+00</td><td>8.978530e+00</td></tr>\n",
       "\t<tr><td>naive       </td><td>1400        </td><td>10          </td><td> 73.4805074 </td><td>1.010464e+01</td><td>3.195368e+00</td><td>7.228424e+00</td></tr>\n",
       "\t<tr><td>naive       </td><td>1500        </td><td>10          </td><td>108.3036606 </td><td>3.093852e+01</td><td>9.783620e+00</td><td>2.213209e+01</td></tr>\n",
       "</tbody>\n",
       "</table>\n"
      ],
      "text/latex": [
       "\\begin{tabular}{r|lllllll}\n",
       " type & size & N & time & sd & se & ci\\\\\n",
       "\\hline\n",
       "\t better       &    1         & 10           &   0.0000052  & 4.216370e-07 & 1.333333e-07 & 3.016210e-07\\\\\n",
       "\t better       &   50         & 10           &   0.0017575  & 2.146132e-03 & 6.786666e-04 & 1.535251e-03\\\\\n",
       "\t better       &  100         & 10           &   0.0230850  & 7.928470e-03 & 2.507202e-03 & 5.671686e-03\\\\\n",
       "\t better       &  500         & 10           &   1.6838839  & 5.946372e-01 & 1.880408e-01 & 4.253778e-01\\\\\n",
       "\t better       & 1000         & 10           &  12.5741224  & 4.899275e+00 & 1.549287e+00 & 3.504730e+00\\\\\n",
       "\t better       & 1100         & 10           &  17.8753681  & 8.147657e+00 & 2.576515e+00 & 5.828483e+00\\\\\n",
       "\t better       & 1200         & 10           &  23.8305315  & 5.229436e+00 & 1.653693e+00 & 3.740913e+00\\\\\n",
       "\t better       & 1300         & 10           &  32.7109006  & 9.224926e+00 & 2.917178e+00 & 6.599114e+00\\\\\n",
       "\t better       & 1400         & 10           &  40.0962123  & 6.301266e+00 & 1.992635e+00 & 4.507654e+00\\\\\n",
       "\t better       & 1500         & 10           &  61.5730039  & 1.617896e+01 & 5.116237e+00 & 1.157373e+01\\\\\n",
       "\t blas         &    1         & 10           &   0.0000054  & 5.163978e-07 & 1.632993e-07 & 3.694087e-07\\\\\n",
       "\t blas         &   50         & 10           &   0.0004610  & 1.014466e-03 & 3.208023e-04 & 7.257053e-04\\\\\n",
       "\t blas         &  100         & 10           &   0.0027920  & 1.625718e-03 & 5.140973e-04 & 1.162969e-03\\\\\n",
       "\t blas         &  500         & 10           &   0.5551122  & 1.647361e-01 & 5.209414e-02 & 1.178451e-01\\\\\n",
       "\t blas         & 1000         & 10           &   2.9032139  & 6.845849e-01 & 2.164848e-01 & 4.897226e-01\\\\\n",
       "\t blas         & 1100         & 10           &   4.3202028  & 1.647376e+00 & 5.209462e-01 & 1.178462e+00\\\\\n",
       "\t blas         & 1200         & 10           &   5.1873439  & 1.211549e+00 & 3.831256e-01 & 8.666903e-01\\\\\n",
       "\t blas         & 1300         & 10           &   7.7354264  & 2.079530e+00 & 6.576052e-01 & 1.487606e+00\\\\\n",
       "\t blas         & 1400         & 10           &   8.2461256  & 1.919975e+00 & 6.071494e-01 & 1.373467e+00\\\\\n",
       "\t blas         & 1500         & 10           &  13.9994792  & 6.340991e+00 & 2.005197e+00 & 4.536071e+00\\\\\n",
       "\t naive        &    1         & 10           &   0.0000051  & 3.162278e-07 & 1.000000e-07 & 2.262157e-07\\\\\n",
       "\t naive        &   50         & 10           &   0.0014636  & 1.352431e-03 & 4.276764e-04 & 9.674711e-04\\\\\n",
       "\t naive        &  100         & 10           &   0.0244978  & 6.938433e-03 & 2.194125e-03 & 4.963456e-03\\\\\n",
       "\t naive        &  500         & 10           &   1.9343614  & 3.739199e-01 & 1.182439e-01 & 2.674862e-01\\\\\n",
       "\t naive        & 1000         & 10           &  17.5381432  & 6.669111e+00 & 2.108958e+00 & 4.770795e+00\\\\\n",
       "\t naive        & 1100         & 10           &  31.2613964  & 9.369559e+00 & 2.962915e+00 & 6.702578e+00\\\\\n",
       "\t naive        & 1200         & 10           &  42.8949371  & 4.262659e+00 & 1.347971e+00 & 3.049323e+00\\\\\n",
       "\t naive        & 1300         & 10           &  59.9928693  & 1.255112e+01 & 3.969013e+00 & 8.978530e+00\\\\\n",
       "\t naive        & 1400         & 10           &  73.4805074  & 1.010464e+01 & 3.195368e+00 & 7.228424e+00\\\\\n",
       "\t naive        & 1500         & 10           & 108.3036606  & 3.093852e+01 & 9.783620e+00 & 2.213209e+01\\\\\n",
       "\\end{tabular}\n"
      ],
      "text/markdown": [
       "\n",
       "type | size | N | time | sd | se | ci | \n",
       "|---|---|---|---|---|---|---|---|---|---|---|---|---|---|---|---|---|---|---|---|---|---|---|---|---|---|---|---|---|---|\n",
       "| better       |    1         | 10           |   0.0000052  | 4.216370e-07 | 1.333333e-07 | 3.016210e-07 | \n",
       "| better       |   50         | 10           |   0.0017575  | 2.146132e-03 | 6.786666e-04 | 1.535251e-03 | \n",
       "| better       |  100         | 10           |   0.0230850  | 7.928470e-03 | 2.507202e-03 | 5.671686e-03 | \n",
       "| better       |  500         | 10           |   1.6838839  | 5.946372e-01 | 1.880408e-01 | 4.253778e-01 | \n",
       "| better       | 1000         | 10           |  12.5741224  | 4.899275e+00 | 1.549287e+00 | 3.504730e+00 | \n",
       "| better       | 1100         | 10           |  17.8753681  | 8.147657e+00 | 2.576515e+00 | 5.828483e+00 | \n",
       "| better       | 1200         | 10           |  23.8305315  | 5.229436e+00 | 1.653693e+00 | 3.740913e+00 | \n",
       "| better       | 1300         | 10           |  32.7109006  | 9.224926e+00 | 2.917178e+00 | 6.599114e+00 | \n",
       "| better       | 1400         | 10           |  40.0962123  | 6.301266e+00 | 1.992635e+00 | 4.507654e+00 | \n",
       "| better       | 1500         | 10           |  61.5730039  | 1.617896e+01 | 5.116237e+00 | 1.157373e+01 | \n",
       "| blas         |    1         | 10           |   0.0000054  | 5.163978e-07 | 1.632993e-07 | 3.694087e-07 | \n",
       "| blas         |   50         | 10           |   0.0004610  | 1.014466e-03 | 3.208023e-04 | 7.257053e-04 | \n",
       "| blas         |  100         | 10           |   0.0027920  | 1.625718e-03 | 5.140973e-04 | 1.162969e-03 | \n",
       "| blas         |  500         | 10           |   0.5551122  | 1.647361e-01 | 5.209414e-02 | 1.178451e-01 | \n",
       "| blas         | 1000         | 10           |   2.9032139  | 6.845849e-01 | 2.164848e-01 | 4.897226e-01 | \n",
       "| blas         | 1100         | 10           |   4.3202028  | 1.647376e+00 | 5.209462e-01 | 1.178462e+00 | \n",
       "| blas         | 1200         | 10           |   5.1873439  | 1.211549e+00 | 3.831256e-01 | 8.666903e-01 | \n",
       "| blas         | 1300         | 10           |   7.7354264  | 2.079530e+00 | 6.576052e-01 | 1.487606e+00 | \n",
       "| blas         | 1400         | 10           |   8.2461256  | 1.919975e+00 | 6.071494e-01 | 1.373467e+00 | \n",
       "| blas         | 1500         | 10           |  13.9994792  | 6.340991e+00 | 2.005197e+00 | 4.536071e+00 | \n",
       "| naive        |    1         | 10           |   0.0000051  | 3.162278e-07 | 1.000000e-07 | 2.262157e-07 | \n",
       "| naive        |   50         | 10           |   0.0014636  | 1.352431e-03 | 4.276764e-04 | 9.674711e-04 | \n",
       "| naive        |  100         | 10           |   0.0244978  | 6.938433e-03 | 2.194125e-03 | 4.963456e-03 | \n",
       "| naive        |  500         | 10           |   1.9343614  | 3.739199e-01 | 1.182439e-01 | 2.674862e-01 | \n",
       "| naive        | 1000         | 10           |  17.5381432  | 6.669111e+00 | 2.108958e+00 | 4.770795e+00 | \n",
       "| naive        | 1100         | 10           |  31.2613964  | 9.369559e+00 | 2.962915e+00 | 6.702578e+00 | \n",
       "| naive        | 1200         | 10           |  42.8949371  | 4.262659e+00 | 1.347971e+00 | 3.049323e+00 | \n",
       "| naive        | 1300         | 10           |  59.9928693  | 1.255112e+01 | 3.969013e+00 | 8.978530e+00 | \n",
       "| naive        | 1400         | 10           |  73.4805074  | 1.010464e+01 | 3.195368e+00 | 7.228424e+00 | \n",
       "| naive        | 1500         | 10           | 108.3036606  | 3.093852e+01 | 9.783620e+00 | 2.213209e+01 | \n",
       "\n",
       "\n"
      ],
      "text/plain": [
       "   type   size N  time        sd           se           ci          \n",
       "1  better    1 10   0.0000052 4.216370e-07 1.333333e-07 3.016210e-07\n",
       "2  better   50 10   0.0017575 2.146132e-03 6.786666e-04 1.535251e-03\n",
       "3  better  100 10   0.0230850 7.928470e-03 2.507202e-03 5.671686e-03\n",
       "4  better  500 10   1.6838839 5.946372e-01 1.880408e-01 4.253778e-01\n",
       "5  better 1000 10  12.5741224 4.899275e+00 1.549287e+00 3.504730e+00\n",
       "6  better 1100 10  17.8753681 8.147657e+00 2.576515e+00 5.828483e+00\n",
       "7  better 1200 10  23.8305315 5.229436e+00 1.653693e+00 3.740913e+00\n",
       "8  better 1300 10  32.7109006 9.224926e+00 2.917178e+00 6.599114e+00\n",
       "9  better 1400 10  40.0962123 6.301266e+00 1.992635e+00 4.507654e+00\n",
       "10 better 1500 10  61.5730039 1.617896e+01 5.116237e+00 1.157373e+01\n",
       "11 blas      1 10   0.0000054 5.163978e-07 1.632993e-07 3.694087e-07\n",
       "12 blas     50 10   0.0004610 1.014466e-03 3.208023e-04 7.257053e-04\n",
       "13 blas    100 10   0.0027920 1.625718e-03 5.140973e-04 1.162969e-03\n",
       "14 blas    500 10   0.5551122 1.647361e-01 5.209414e-02 1.178451e-01\n",
       "15 blas   1000 10   2.9032139 6.845849e-01 2.164848e-01 4.897226e-01\n",
       "16 blas   1100 10   4.3202028 1.647376e+00 5.209462e-01 1.178462e+00\n",
       "17 blas   1200 10   5.1873439 1.211549e+00 3.831256e-01 8.666903e-01\n",
       "18 blas   1300 10   7.7354264 2.079530e+00 6.576052e-01 1.487606e+00\n",
       "19 blas   1400 10   8.2461256 1.919975e+00 6.071494e-01 1.373467e+00\n",
       "20 blas   1500 10  13.9994792 6.340991e+00 2.005197e+00 4.536071e+00\n",
       "21 naive     1 10   0.0000051 3.162278e-07 1.000000e-07 2.262157e-07\n",
       "22 naive    50 10   0.0014636 1.352431e-03 4.276764e-04 9.674711e-04\n",
       "23 naive   100 10   0.0244978 6.938433e-03 2.194125e-03 4.963456e-03\n",
       "24 naive   500 10   1.9343614 3.739199e-01 1.182439e-01 2.674862e-01\n",
       "25 naive  1000 10  17.5381432 6.669111e+00 2.108958e+00 4.770795e+00\n",
       "26 naive  1100 10  31.2613964 9.369559e+00 2.962915e+00 6.702578e+00\n",
       "27 naive  1200 10  42.8949371 4.262659e+00 1.347971e+00 3.049323e+00\n",
       "28 naive  1300 10  59.9928693 1.255112e+01 3.969013e+00 8.978530e+00\n",
       "29 naive  1400 10  73.4805074 1.010464e+01 3.195368e+00 7.228424e+00\n",
       "30 naive  1500 10 108.3036606 3.093852e+01 9.783620e+00 2.213209e+01"
      ]
     },
     "metadata": {},
     "output_type": "display_data"
    }
   ],
   "source": [
    "condition = (results$type == \"blas\") | (results$type == \"better\")\n",
    "tgc = summarySE(results, measurevar=\"time\", groupvars=c(\"type\", \"size\"))\n",
    "tgc"
   ]
  },
  {
   "cell_type": "code",
   "execution_count": 25,
   "metadata": {
    "ExecuteTime": {
     "end_time": "2018-11-30T07:52:45.723870Z",
     "start_time": "2018-11-30T07:52:44.884Z"
    }
   },
   "outputs": [
    {
     "data": {},
     "metadata": {},
     "output_type": "display_data"
    },
    {
     "data": {
      "image/png": "[encoded data removed]",
      "text/plain": [
       "plot without title"
      ]
     },
     "metadata": {},
     "output_type": "display_data"
    }
   ],
   "source": [
    "ggplot(tgc, aes(x=size, y=time, group=type, colour=type)) + geom_errorbar(aes(ymin=time-se, ymax=time+se), width=20) + geom_point() + geom_line() + ylab('time [s]') + xlab('size')"
   ]
  },
  {
   "cell_type": "code",
   "execution_count": 30,
   "metadata": {
    "ExecuteTime": {
     "end_time": "2018-11-30T08:10:37.325497Z",
     "start_time": "2018-11-30T08:10:36.391Z"
    }
   },
   "outputs": [
    {
     "data": {},
     "metadata": {},
     "output_type": "display_data"
    },
    {
     "data": {
      "image/png": "[encoded data removed]",
      "text/plain": [
       "plot without title"
      ]
     },
     "metadata": {},
     "output_type": "display_data"
    }
   ],
   "source": [
    "ggplot(data = tgc, aes(x=size, y=time, group=type, color=type)) + \n",
    "geom_point() +\n",
    "geom_errorbar(aes(ymin=time-se, ymax=time+se), width=20, position=position_dodge(0.05)) +\n",
    "stat_smooth(method='lm', formula=y~poly(x,3), se=FALSE) +\n",
    "xlab('size') +\n",
    "ylab('time [s]')"
   ]
  }
 ],
 "metadata": {
  "kernelspec": {
   "display_name": "R",
   "language": "R",
   "name": "ir"
  },
  "language_info": {
   "codemirror_mode": "r",
   "file_extension": ".r",
   "mimetype": "text/x-r-source",
   "name": "R",
   "pygments_lexer": "r",
   "version": "3.5.1"
  }
 },
 "nbformat": 4,
 "nbformat_minor": 2
}
