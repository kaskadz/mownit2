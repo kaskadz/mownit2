{
 "cells": [
  {
   "cell_type": "markdown",
   "metadata": {},
   "source": [
    "# Chaos"
   ]
  },
  {
   "cell_type": "markdown",
   "metadata": {},
   "source": [
    "Napisz program, który będzie rysował trajektorię dla któregoś z chaotycznych atraktorów: Lorenza, Roeslera, Kuramoto-Shivashinsky'ego (lub innych znalezionych). Rozwiązanie wymaga rozwiązania równania różniczkowego. W Pythonie można to zrobić np. funkcją [`odeint` z pakietu SciPy](https://docs.scipy.org/doc/scipy-0.14.0/reference/generated/scipy.integrate.odeint.html#scipy.integrate.odeint).\n",
    "\n",
    "Wielkim plusem będzie interaktywność programu: warto zbadać, czy układ ma chaotyczne właściwości dla wszystkich zestawów parametrów, czy tylko dla pewnego ich podzbioru."
   ]
  },
  {
   "cell_type": "code",
   "execution_count": 133,
   "metadata": {
    "ExecuteTime": {
     "end_time": "2019-01-25T17:29:37.248073Z",
     "start_time": "2019-01-25T17:29:37.238065Z"
    }
   },
   "outputs": [],
   "source": [
    "import numpy as np\n",
    "import matplotlib.pyplot as plt\n",
    "from matplotlib.pyplot import figure\n",
    "from scipy.integrate import odeint\n",
    "from mpl_toolkits.mplot3d import Axes3D\n",
    "%matplotlib inline\n",
    "from pylab import rcParams\n",
    "rcParams['figure.figsize'] = 14, 12\n",
    "import ipywidgets as widgets\n",
    "from IPython.display import display\n",
    "from __future__ import print_function\n",
    "from ipywidgets import interact, interactive, fixed, interact_manual"
   ]
  },
  {
   "cell_type": "markdown",
   "metadata": {},
   "source": [
    "## Lorenz system\n",
    "[Wikipedia](https://en.wikipedia.org/wiki/Lorenz_system)\n",
    "$$\n",
    "{\\begin{aligned}{\\frac {\\mathrm {d} x}{\\mathrm {d} t}}&=\\sigma (y-x),\\\\{\\frac {\\mathrm {d} y}{\\mathrm {d} t}}&=x(\\rho -z)-y,\\\\{\\frac {\\mathrm {d} z}{\\mathrm {d} t}}&=xy-\\beta z.\\end{aligned}}\n",
    "$$"
   ]
  },
  {
   "cell_type": "code",
   "execution_count": 134,
   "metadata": {
    "ExecuteTime": {
     "end_time": "2019-01-25T17:29:37.266059Z",
     "start_time": "2019-01-25T17:29:37.252057Z"
    }
   },
   "outputs": [],
   "source": [
    "def draw_lorenz(rho, sigma, beta):\n",
    "    def f(state, t):\n",
    "      x, y, z = state  # unpack the state vector\n",
    "      return sigma * (y - x), x * (rho - z) - y, x * y - beta * z  # derivatives\n",
    "\n",
    "    state0 = [1.0, 1.0, 1.0]\n",
    "    t = np.arange(0.0, 40.0, 0.01)\n",
    "\n",
    "    states = odeint(f, state0, t)\n",
    "\n",
    "    fig = plt.figure()\n",
    "    ax = fig.gca(projection='3d')\n",
    "    ax.plot(states[:,0], states[:,1], states[:,2])\n",
    "    plt.show()"
   ]
  },
  {
   "cell_type": "code",
   "execution_count": 135,
   "metadata": {
    "ExecuteTime": {
     "end_time": "2019-01-25T17:29:37.674053Z",
     "start_time": "2019-01-25T17:29:37.269054Z"
    }
   },
   "outputs": [
    {
     "data": {
      "application/vnd.jupyter.widget-view+json": {
       "model_id": "13e7f81888354caeba42b1f7cbf06c0e",
       "version_major": 2,
       "version_minor": 0
      },
      "text/plain": [
       "HBox(children=(FloatSlider(value=28.0, continuous_update=False, description='$\\\\rho$:', max=56.0), FloatSlider…"
      ]
     },
     "metadata": {},
     "output_type": "display_data"
    },
    {
     "data": {
      "application/vnd.jupyter.widget-view+json": {
       "model_id": "45aca20845a644198b3c6ac77626504f",
       "version_major": 2,
       "version_minor": 0
      },
      "text/plain": [
       "Output()"
      ]
     },
     "metadata": {},
     "output_type": "display_data"
    }
   ],
   "source": [
    "def interact_lorenz():\n",
    "    def f(a, b, c):\n",
    "        draw_lorenz(a, b, c)\n",
    "        return\n",
    "    \n",
    "    a = widgets.FloatSlider(value=28.0, description='$\\\\rho$:', min=0, max=56, step=0.1, continuous_update=False)\n",
    "    b = widgets.FloatSlider(value=10.0, description='$\\\\sigma$:', min=0, max=20, step=0.1, continuous_update=False)\n",
    "    c = widgets.FloatSlider(value=8.0 / 3.0, description='$\\\\beta$:', min=0, max=10, step=0.01, continuous_update=False)\n",
    "    ui = widgets.HBox([a, b, c])\n",
    "    \n",
    "    out = widgets.interactive_output(f, {'a': a, 'b': b, 'c': c})\n",
    "    display(ui, out)\n",
    "\n",
    "interact_lorenz()"
   ]
  },
  {
   "cell_type": "markdown",
   "metadata": {},
   "source": [
    "## Rössler attractor\n",
    "[Wikipedia](https://en.wikipedia.org/wiki/R%C3%B6ssler_attractor)\n",
    "\n",
    "$$\n",
    "{\\begin{aligned}{\\frac {\\mathrm {d} x}{\\mathrm {d} t}}&=-y-z,\\\\{\\frac {\\mathrm {d} y}{\\mathrm {d} t}}&=x+ ay,\\\\{\\frac {\\mathrm {d} z}{\\mathrm {d} t}}&=b+z(x-c).\\end{aligned}}\n",
    "$$"
   ]
  },
  {
   "cell_type": "code",
   "execution_count": 136,
   "metadata": {
    "ExecuteTime": {
     "end_time": "2019-01-25T17:29:37.684057Z",
     "start_time": "2019-01-25T17:29:37.677054Z"
    }
   },
   "outputs": [],
   "source": [
    "def draw_rossler(a, b, c):\n",
    "    def f(state, t):\n",
    "      x, y, z = state  # unpack the state vector\n",
    "      return (- y - z), x + a * y, b + z * (x - c)  # derivatives\n",
    "    \n",
    "    state0 = [1.0, 1.0, 1.01]\n",
    "    t = np.arange(0.0, 150.0, 0.01)\n",
    "    \n",
    "    states = odeint(f, state0, t)\n",
    "    \n",
    "    fig = plt.figure()\n",
    "    ax = fig.gca(projection='3d')\n",
    "    ax.plot(states[:,0], states[:,1], states[:,2])\n",
    "    plt.show()"
   ]
  },
  {
   "cell_type": "code",
   "execution_count": 137,
   "metadata": {
    "ExecuteTime": {
     "end_time": "2019-01-25T17:29:38.075054Z",
     "start_time": "2019-01-25T17:29:37.687054Z"
    },
    "scrolled": false
   },
   "outputs": [
    {
     "data": {
      "application/vnd.jupyter.widget-view+json": {
       "model_id": "4695c2a0cf46487a8aecc16f8307f1a9",
       "version_major": 2,
       "version_minor": 0
      },
      "text/plain": [
       "HBox(children=(FloatSlider(value=0.2, continuous_update=False, description='$a$:', max=1.0, min=-2.0, step=0.0…"
      ]
     },
     "metadata": {},
     "output_type": "display_data"
    },
    {
     "data": {
      "application/vnd.jupyter.widget-view+json": {
       "model_id": "31537438471d46a490b0b561ce9c787c",
       "version_major": 2,
       "version_minor": 0
      },
      "text/plain": [
       "Output()"
      ]
     },
     "metadata": {},
     "output_type": "display_data"
    }
   ],
   "source": [
    "def interact_rossler():\n",
    "    def f(a, b, c):\n",
    "        draw_rossler(a, b, c)\n",
    "        return\n",
    "    \n",
    "    a = widgets.FloatSlider(value=0.2, description='$a$:', min=-2, max=1, step=0.01, continuous_update=False)\n",
    "    b = widgets.FloatSlider(value=0.2, description='$b$:', min=0.01, max=2, step=0.01, continuous_update=False)\n",
    "    c = widgets.FloatSlider(value=5.7, description='$c$:', min=1, max=40, step=0.01, continuous_update=False)\n",
    "    ui = widgets.HBox([a, b, c])\n",
    "    \n",
    "    out = widgets.interactive_output(f, {'a': a, 'b': b, 'c': c})\n",
    "    display(ui, out)\n",
    "\n",
    "interact_rossler()"
   ]
  },
  {
   "cell_type": "markdown",
   "metadata": {},
   "source": [
    "## Lorenz 96 model\n",
    "[Wikipedia](https://en.wikipedia.org/wiki/Lorenz_96_model)\n",
    "$$ N - \\text{Number of variables} $$\n",
    "$$ F - \\text{Forcing constant} $$"
   ]
  },
  {
   "cell_type": "code",
   "execution_count": 138,
   "metadata": {
    "ExecuteTime": {
     "end_time": "2019-01-25T17:29:38.089056Z",
     "start_time": "2019-01-25T17:29:38.078053Z"
    }
   },
   "outputs": [],
   "source": [
    "def draw_lorenz96(N, F):\n",
    "    def Lorenz96(x,t):\n",
    "      # compute state derivatives\n",
    "      d = np.zeros(N)\n",
    "      # first the 3 edge cases: i=1,2,N\n",
    "      d[0] = (x[1] - x[N-2]) * x[N-1] - x[0]\n",
    "      d[1] = (x[2] - x[N-1]) * x[0]- x[1]\n",
    "      d[N-1] = (x[0] - x[N-3]) * x[N-2] - x[N-1]\n",
    "      # then the general case\n",
    "      for i in range(2, N-1):\n",
    "          d[i] = (x[i+1] - x[i-2]) * x[i-1] - x[i]\n",
    "      # add the forcing term\n",
    "      d = d + F\n",
    "\n",
    "      # return the state derivatives\n",
    "      return d\n",
    "\n",
    "    x0 = F*np.ones(N) # initial state (equilibrium)\n",
    "    x0[19] += 0.01 # add small perturbation to 20th variable\n",
    "    t = np.arange(0.0, 40.0, 0.01)\n",
    "\n",
    "    x = odeint(Lorenz96, x0, t)\n",
    "\n",
    "    # plot first three variables\n",
    "    fig = plt.figure()\n",
    "    ax = fig.gca(projection='3d')\n",
    "    ax.plot(x[:,0],x[:,1],x[:,2])\n",
    "    plt.show()"
   ]
  },
  {
   "cell_type": "code",
   "execution_count": 139,
   "metadata": {
    "ExecuteTime": {
     "end_time": "2019-01-25T17:29:38.970293Z",
     "start_time": "2019-01-25T17:29:38.092057Z"
    }
   },
   "outputs": [
    {
     "data": {
      "application/vnd.jupyter.widget-view+json": {
       "model_id": "d311938794b243f9b64214a51779b0bd",
       "version_major": 2,
       "version_minor": 0
      },
      "text/plain": [
       "HBox(children=(IntSlider(value=36, continuous_update=False, description='$N$:', min=20), IntSlider(value=8, co…"
      ]
     },
     "metadata": {},
     "output_type": "display_data"
    },
    {
     "data": {
      "application/vnd.jupyter.widget-view+json": {
       "model_id": "a75f6443b30841bd9da3544adaf694fc",
       "version_major": 2,
       "version_minor": 0
      },
      "text/plain": [
       "Output()"
      ]
     },
     "metadata": {},
     "output_type": "display_data"
    }
   ],
   "source": [
    "def interact_lorenz96():\n",
    "    def f(a, b):\n",
    "        draw_lorenz96(a, b)\n",
    "        return\n",
    "    \n",
    "    a = widgets.IntSlider(value=36, description='$N$:', min=20, max=100, continuous_update=False)\n",
    "    b = widgets.IntSlider(value=8, description='$F$:', min=0, max=40, continuous_update=False)\n",
    "    ui = widgets.HBox([a, b])\n",
    "    \n",
    "    out = widgets.interactive_output(f, {'a': a, 'b': b})\n",
    "    display(ui, out)\n",
    "\n",
    "interact_lorenz96()"
   ]
  }
 ],
 "metadata": {
  "kernelspec": {
   "display_name": "Python 3",
   "language": "python",
   "name": "python3"
  },
  "language_info": {
   "codemirror_mode": {
    "name": "ipython",
    "version": 3
   },
   "file_extension": ".py",
   "mimetype": "text/x-python",
   "name": "python",
   "nbconvert_exporter": "python",
   "pygments_lexer": "ipython3",
   "version": "3.7.0"
  }
 },
 "nbformat": 4,
 "nbformat_minor": 2
}
