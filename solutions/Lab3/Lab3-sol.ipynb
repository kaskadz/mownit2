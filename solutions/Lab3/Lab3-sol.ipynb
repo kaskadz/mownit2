{
 "cells": [
  {
   "cell_type": "code",
   "execution_count": 52,
   "metadata": {
    "ExecuteTime": {
     "end_time": "2019-01-25T13:42:22.358257Z",
     "start_time": "2019-01-25T13:42:22.354257Z"
    }
   },
   "outputs": [],
   "source": [
    "from typing import Optional, Tuple\n",
    "import numpy as np"
   ]
  },
  {
   "cell_type": "markdown",
   "metadata": {},
   "source": [
    "### Zadanie rozgrzewkowe:\n",
    "Napisać mnożenie macierzy w ulubionym_\\**_ języku programowania.\n",
    "\n",
    "**Pytanko:** jakie muszą być wymiary mnożonych macierzy? (Który wymiar musi się \"zgadzać\"?)\n",
    "\n",
    "**Zadanko:** Uzupełnić brakujące wymiary macierzy w docstringu (z dokładnością do [\"alfa-konwersji\"](https://pl.wikipedia.org/wiki/Konwersja_α))"
   ]
  },
  {
   "cell_type": "code",
   "execution_count": 53,
   "metadata": {
    "ExecuteTime": {
     "end_time": "2019-01-25T13:42:22.382255Z",
     "start_time": "2019-01-25T13:42:22.369250Z"
    }
   },
   "outputs": [],
   "source": [
    "def agh_superfast_matrix_multiply(a: np.matrix, b: np.matrix) -> np.matrix:\n",
    "    \"\"\"Perform totally ordinary multiplication of matrices.\n",
    "    \n",
    "    :param a: matrix with dimensions n by m\n",
    "    :param b: matrix with dimensions m by p\n",
    "    :return:  matrix with dimensions n by p\n",
    "    \"\"\"\n",
    "\n",
    "    n = a.shape[0]\n",
    "    m = a.shape[1]\n",
    "    p = b.shape[1]\n",
    "    c = np.zeros((n,p))\n",
    "    \n",
    "    for i in range(0,n):\n",
    "        for j in range(0,p):\n",
    "            for k in range(0,m):\n",
    "                c[i, j] += a[i, k] * b[k, j]\n",
    "    return c\n",
    "\n",
    "m1 = np.matrix([[1, 2],\n",
    "                [3, 4],\n",
    "                [4, 5],\n",
    "                [5, 1]])\n",
    "\n",
    "m2 = np.matrix([[1, 2, 3],\n",
    "                [4, 5, 6]])\n",
    "\n",
    "res = agh_superfast_matrix_multiply(m1, m2)\n",
    "assert np.allclose(res, m1 * m2), \"Wrong multiplication result\""
   ]
  },
  {
   "cell_type": "markdown",
   "metadata": {},
   "source": [
    "### Zadania\n",
    "1. Przeczytać rozdz. 7. Kincaida i Cheney'a (Systems of Linear Equations).\n",
    "2. Przeczytać rozdz. 8. Kincaida i Cheney'a (Additional Topics Concerning Systems of Linear Equations).\n",
    "3. Napisać kod (w ulubionym_\\**_ języku) do eliminacji Gaussa z i bez pivotingu.\n",
    "4. Rozwiązać poniższy układ równań z pivotingiem i bez, porównać wyniki:"
   ]
  },
  {
   "cell_type": "code",
   "execution_count": 54,
   "metadata": {
    "ExecuteTime": {
     "end_time": "2019-01-25T13:42:22.397250Z",
     "start_time": "2019-01-25T13:42:22.385254Z"
    }
   },
   "outputs": [],
   "source": [
    "A = np.matrix([[0.0001, -5.0300, 5.8090, 7.8320],\n",
    "               [2.2660, 1.9950,  1.2120, 8.0080],\n",
    "               [8.8500, 5.6810,  4.5520, 1.3020],\n",
    "               [6.7750, -2.253,  2.9080, 3.9700]])\n",
    "\n",
    "b = np.matrix([9.5740, 7.2190, 5.7300, 6.2910]).transpose()\n",
    "\n",
    "x = np.linalg.solve(A, b)"
   ]
  },
  {
   "cell_type": "markdown",
   "metadata": {},
   "source": [
    "#### Algorytm Gaussa bez pivotingu"
   ]
  },
  {
   "cell_type": "code",
   "execution_count": 55,
   "metadata": {
    "ExecuteTime": {
     "end_time": "2019-01-25T13:42:22.410268Z",
     "start_time": "2019-01-25T13:42:22.400253Z"
    }
   },
   "outputs": [],
   "source": [
    "def naive_gauss(a, b):\n",
    "    \"\"\"Perform naive Gauss algorithm to solve system of linear equations\n",
    "    \n",
    "    :param a: matrix with dimensions n by n\n",
    "    :param b: matrix with dimensions 1 by n\n",
    "    :return:  matrix with dimensions 1 by n\n",
    "    \"\"\"\n",
    "    n = a.shape[0]\n",
    "    x = np.zeros(n)\n",
    "    \n",
    "    for k in range(0, n):\n",
    "        for i in range(k + 1, n):\n",
    "            xmult = a[i, k] / a[k, k]\n",
    "            a[i, k] = xmult\n",
    "            for j in range(k + 1, n):\n",
    "                a[i, j] = a[i, j] - xmult * a[k, j]\n",
    "            b[i] = b[i] - xmult * b[k]\n",
    "    x[n - 1] = b[n - 1] / a[n - 1, n - 1]\n",
    "    for i in range(n - 1, -1, -1):\n",
    "        sum = b[i]\n",
    "        for j in range(i + 1, n):\n",
    "            sum = sum - a[i, j] * x[j]\n",
    "        x[i] = sum / a[i, i]\n",
    "    return np.matrix(x).transpose()"
   ]
  },
  {
   "cell_type": "code",
   "execution_count": 56,
   "metadata": {
    "ExecuteTime": {
     "end_time": "2019-01-25T13:42:22.429254Z",
     "start_time": "2019-01-25T13:42:22.413252Z"
    }
   },
   "outputs": [
    {
     "data": {
      "text/plain": [
       "matrix([[ 0.21602477],\n",
       "        [-0.00791511],\n",
       "        [ 0.63524333],\n",
       "        [ 0.74617428]])"
      ]
     },
     "metadata": {},
     "output_type": "display_data"
    },
    {
     "data": {
      "text/plain": [
       "matrix([[ 0.21602477],\n",
       "        [-0.00791511],\n",
       "        [ 0.63524333],\n",
       "        [ 0.74617428]])"
      ]
     },
     "metadata": {},
     "output_type": "display_data"
    }
   ],
   "source": [
    "x_ngauss = np.linalg.solve(A, b)\n",
    "display(x, x_ngauss)\n",
    "assert np.allclose(x_ngauss, x), \"Wrong multiplication result\""
   ]
  },
  {
   "cell_type": "markdown",
   "metadata": {},
   "source": [
    "**Pytanie**: dlaczego wołamy `transpose()` na wektorze `b`?\n",
    "\n",
    "Sprawdźmy, czy rozwiązanie jest ok (**Pytanie'**: dlaczego po prostu nie użyjemy `==` lub jakiegoś `equals`?):"
   ]
  },
  {
   "cell_type": "markdown",
   "metadata": {},
   "source": [
    "#### Odpowiedź:\n",
    "Bo do $A\\cdot x=b$ potrzebujemy wektor kolumnowy $b$.\n",
    "#### Odpowiedź':\n",
    "Operujemy na liczbach zmienno przecinkowych, zatem przez niedokładność ich reprezentacji musimy porównywać je z pewną dokładnością. Pytamy zatem, czy są w pewnej odległości, zamiast czy są identyczne, bo bardzo prawdopowobne, że identyczne nie będą."
   ]
  },
  {
   "cell_type": "code",
   "execution_count": 57,
   "metadata": {
    "ExecuteTime": {
     "end_time": "2019-01-25T13:42:22.442252Z",
     "start_time": "2019-01-25T13:42:22.432251Z"
    }
   },
   "outputs": [
    {
     "data": {
      "text/plain": [
       "True"
      ]
     },
     "execution_count": 57,
     "metadata": {},
     "output_type": "execute_result"
    }
   ],
   "source": [
    "np.allclose(np.dot(A, x), b)"
   ]
  },
  {
   "cell_type": "markdown",
   "metadata": {},
   "source": [
    "#### Algorytm Gaussa z pivotingiem"
   ]
  },
  {
   "cell_type": "code",
   "execution_count": 58,
   "metadata": {
    "ExecuteTime": {
     "end_time": "2019-01-25T13:42:22.456254Z",
     "start_time": "2019-01-25T13:42:22.445250Z"
    }
   },
   "outputs": [],
   "source": [
    "def pivot_gauss(a, b):\n",
    "    \"\"\"Perform pivot Gauss algorithm to solve system of linear equations\n",
    "    :param a: matrix with dimensions n by n\n",
    "    :param b: matrix with dimensions 1 by n\n",
    "    :return:  matrix with dimensions 1 by n\n",
    "    \"\"\"\n",
    "    n = a.shape[0]\n",
    "    x = np.zeros(n)\n",
    "    s = np.zeros(n)\n",
    "    d = np.zeros(n, dtype = np.int)\n",
    "    \n",
    "    for i in range(0, n):\n",
    "        d[i] = i\n",
    "        smax = 0\n",
    "        for j in range(0, n):\n",
    "            smax = max(smax, abs(a[i, j]))\n",
    "        s[i] = smax\n",
    "        \n",
    "    for k in range(0, n - 1):\n",
    "        rmax = 0\n",
    "        for i in range(k, n):\n",
    "            r = abs(a[d[i], k] / s[d[i]])\n",
    "            if r > rmax:\n",
    "                rmax = r\n",
    "                j = i\n",
    "        tmp = d[j]\n",
    "        d[j] = d[k]\n",
    "        d[k] = tmp\n",
    "        for i in range(k + 1, n):\n",
    "            xmult = a[d[i], k] / a[d[k], k]\n",
    "            a[d[i], k] = xmult\n",
    "            for j in range(k + 1, n):\n",
    "                a[d[i], j] = a[d[i], j] - xmult * a[d[k], j]\n",
    "    \n",
    "    for k in range(0, n):\n",
    "        for i in range(k + 1, n):\n",
    "            b[d[i]] = b[d[i]] - a[d[i], k] * b[d[k]]\n",
    "    \n",
    "    m = n-1\n",
    "    x[m] = b[d[m]] / a[d[m], m]\n",
    "    \n",
    "    for i in range(n - 1, -1, -1):\n",
    "        sum = b[d[i]]\n",
    "        for j in range(i + 1, n):\n",
    "            sum = sum - a[d[i], j] * x[j]\n",
    "        x[i] = sum / a[d[i], i]\n",
    "    return np.matrix(x).transpose()"
   ]
  },
  {
   "cell_type": "markdown",
   "metadata": {},
   "source": [
    "### Zadania, c.d.\n",
    "\n",
    "5. Zaimplementować algorytm faktoryzacji LU macierzy\n",
    "6. (*) Zaimplementować funkcję sprawdzającą, czy dana macierz jest symetryczna i dodatnio określona\n",
    "7. Zaimplementować algorytm faktoryzacji Cholesky'ego macierzy"
   ]
  },
  {
   "cell_type": "markdown",
   "metadata": {},
   "source": [
    "#### Warunek na symetrię i dodatią określoność macierzy:\n",
    "_\"symetryczna macierz dodatnio określona $A$ ma rozkład Choleskiego, tzn. istnieje macierz odwracalna $L$, dla której $A = L L^T$ (symetria i dodatnia określoność – to warunki konieczne i dostateczne)\"_ ~[Wikipedia](https://pl.wikipedia.org/wiki/Okre%C5%9Blono%C5%9B%C4%87_formy#Twierdzenia)"
   ]
  },
  {
   "cell_type": "code",
   "execution_count": 59,
   "metadata": {
    "ExecuteTime": {
     "end_time": "2019-01-25T13:42:22.474249Z",
     "start_time": "2019-01-25T13:42:22.459255Z"
    }
   },
   "outputs": [],
   "source": [
    "def agh_superfast_lu(a: np.matrix) -> Optional[Tuple[np.matrix, np.matrix]]:\n",
    "    \"\"\"Perform LU decomposition of a matrix.\n",
    "    \n",
    "    :param a: square matrix (n x n)\n",
    "    :return:  tuple of (l, u) where:\n",
    "        l is lower diagonal matrix of a\n",
    "        u is upper diagonal matrix of a\n",
    "        and a = l * u\n",
    "    \"\"\"\n",
    "    \n",
    "    n = a.shape[0]\n",
    "    l = np.zeros((n, n))\n",
    "    u = np.zeros((n, n))\n",
    "    \n",
    "    for k in range(0, n):\n",
    "        l[k, k] = 1\n",
    "        for j in range(k, n):\n",
    "            sum = 0\n",
    "            for s in range(0, k):\n",
    "                sum += l[k, s] * u[s, j]\n",
    "            u[k, j] = a[k, j] - sum\n",
    "        for i in range(k + 1, n):\n",
    "            sum = 0\n",
    "            for s in range(0, k):\n",
    "                sum += l[i, s] * u[s, k]\n",
    "            l[i, k] = (a[i, k] - sum) / u[k, k]\n",
    "    return (l, u)\n",
    "\n",
    "def agh_superfast_check_spd(a: np.matrix) -> bool:\n",
    "    \"\"\"Check whether a matrix is symmetric and positive-definite (SPD).\n",
    "    \n",
    "    :param a: square matrix\n",
    "    \"\"\"\n",
    "    l = agh_superfast_cholesky(a)\n",
    "    llt = agh_superfast_matrix_multiply(l, l.transpose())\n",
    "    return np.allclose(llt, a)\n",
    "\n",
    "def agh_superfast_cholesky(a: np.matrix) -> Optional[np.matrix]:\n",
    "    \"\"\"Perform a Cholesky decomposition of a matrix.\n",
    "    \n",
    "    :param a: square matrix (SPD)\n",
    "    :return:  matrix l that is lower diagonal matrix of a and a = l * l^t\n",
    "    \"\"\"\n",
    "    \n",
    "    n = a.shape[0]\n",
    "    l = np.zeros((n, n))\n",
    "    \n",
    "    for k in range(0, n):\n",
    "        sum = 0\n",
    "        for s in range(0, k):\n",
    "            sum += l[k, s] * l[k, s]\n",
    "        l[k, k] = pow(a[k, k] - sum, 1 / 2)\n",
    "        for i in range(k + 1, n):\n",
    "            sum = 0\n",
    "            for s in range(0, k):\n",
    "                sum += l[i, s] * l[k, s]\n",
    "            l[i, k] = (a[i, k] - sum) / l[k, k]\n",
    "    return l"
   ]
  },
  {
   "cell_type": "markdown",
   "metadata": {},
   "source": [
    "#### Działanie zaimplementowanych metod:"
   ]
  },
  {
   "cell_type": "code",
   "execution_count": 60,
   "metadata": {
    "ExecuteTime": {
     "end_time": "2019-01-25T13:42:22.488256Z",
     "start_time": "2019-01-25T13:42:22.477252Z"
    }
   },
   "outputs": [
    {
     "name": "stdout",
     "output_type": "stream",
     "text": [
      "[[ 1.          0.          0.        ]\n",
      " [ 0.2         1.          0.        ]\n",
      " [ 0.6        -1.28571429  1.        ]]  = L\n",
      "[[ 5.          3.          2.        ]\n",
      " [ 0.          1.4        -0.4       ]\n",
      " [ 0.          0.          2.28571429]]  = U\n"
     ]
    }
   ],
   "source": [
    "A = np.matrix([[5.0, 3.0, 2.0],\n",
    "               [ 1.0, 2.0, 0.0],\n",
    "               [ 3.0, 0.0, 4.0]])\n",
    "\n",
    "LU = agh_superfast_lu(A)\n",
    "print(LU[0], \" = L\")\n",
    "print(LU[1], \" = U\")"
   ]
  },
  {
   "cell_type": "code",
   "execution_count": 61,
   "metadata": {
    "ExecuteTime": {
     "end_time": "2019-01-25T13:42:22.508252Z",
     "start_time": "2019-01-25T13:42:22.492257Z"
    }
   },
   "outputs": [
    {
     "name": "stdout",
     "output_type": "stream",
     "text": [
      "[[ 1.41421356  0.          0.        ]\n",
      " [-0.70710678  1.22474487  0.        ]\n",
      " [ 0.         -0.81649658  1.15470054]]  = L\n",
      "[[ 1.41421356 -0.70710678  0.        ]\n",
      " [ 0.          1.22474487 -0.81649658]\n",
      " [ 0.          0.          1.15470054]]  = L^T\n"
     ]
    }
   ],
   "source": [
    "A = np.matrix([[2.0, -1.0, 0.0],\n",
    "               [-1.0, 2.0,-1.0],\n",
    "               [ 0.0,-1.0, 2.0]])\n",
    "\n",
    "L = agh_superfast_cholesky(A)\n",
    "print(L, \" = L\")\n",
    "print(L.transpose(), \" = L^T\")"
   ]
  },
  {
   "cell_type": "code",
   "execution_count": 62,
   "metadata": {
    "ExecuteTime": {
     "end_time": "2019-01-25T13:42:22.522255Z",
     "start_time": "2019-01-25T13:42:22.511253Z"
    }
   },
   "outputs": [
    {
     "data": {
      "text/plain": [
       "True"
      ]
     },
     "execution_count": 62,
     "metadata": {},
     "output_type": "execute_result"
    }
   ],
   "source": [
    "A = np.matrix([[2.0, -1.0, 0.0],\n",
    "               [-1.0, 2.0,-1.0],\n",
    "               [ 0.0,-1.0, 2.0]])\n",
    "\n",
    "agh_superfast_check_spd(A)"
   ]
  },
  {
   "cell_type": "markdown",
   "metadata": {},
   "source": [
    "### Zadania, opcjonalnie\n",
    "5. zaimplementować metodę Jacobiego (iteracyjne rozwiązywanie układu równań liniowych)\n",
    "6. za pomocą tejże metody rozwiązać powyższy układ równań"
   ]
  },
  {
   "cell_type": "code",
   "execution_count": 63,
   "metadata": {
    "ExecuteTime": {
     "end_time": "2019-01-25T13:42:22.535256Z",
     "start_time": "2019-01-25T13:42:22.525252Z"
    }
   },
   "outputs": [],
   "source": [
    "def jacobi(a, b):\n",
    "    \"\"\"Perform Jacobi iterative method to solve system of linear equations\n",
    "    \n",
    "    :param a: matrix with dimensions n by n\n",
    "    :param b: matrix with dimensions 1 by n\n",
    "    :return:  matrix with dimensions 1 by n\n",
    "    \"\"\"\n",
    "    ITERATION_LIMIT = 1000\n",
    "    n = a.shape[0]\n",
    "    x = np.zeros_like(b)\n",
    "    \n",
    "    for it_count in range(ITERATION_LIMIT):\n",
    "        x_new = np.zeros_like(x)\n",
    "\n",
    "        for i in range(0, n):\n",
    "            s1 = np.dot(a[i, :i], x[:i])\n",
    "            s2 = np.dot(a[i, i + 1:], x[i + 1:])\n",
    "            x_new[i] = (b[i] - s1 - s2) / a[i, i]\n",
    "\n",
    "        if np.allclose(x, x_new, atol=1e-10, rtol=0.0):\n",
    "            break\n",
    "            \n",
    "        x = x_new\n",
    "    return x"
   ]
  },
  {
   "cell_type": "code",
   "execution_count": 64,
   "metadata": {
    "ExecuteTime": {
     "end_time": "2019-01-25T13:42:22.548253Z",
     "start_time": "2019-01-25T13:42:22.538250Z"
    }
   },
   "outputs": [],
   "source": [
    "A = np.array([[10., -1., 2., 0.],\n",
    "              [-1., 11., -1., 3.],\n",
    "              [2., -1., 10., -1.],\n",
    "              [0.0, 3., -1., 8.]])\n",
    "b = np.array([6., 25., -11., 15.])"
   ]
  },
  {
   "cell_type": "code",
   "execution_count": 65,
   "metadata": {
    "ExecuteTime": {
     "end_time": "2019-01-25T13:42:22.565249Z",
     "start_time": "2019-01-25T13:42:22.551253Z"
    }
   },
   "outputs": [
    {
     "name": "stdout",
     "output_type": "stream",
     "text": [
      "Solution:  [ 1.  2. -1.  1.]\n",
      "Error:  [ 3.95795396e-10 -7.29656335e-10  5.13315612e-10 -5.86034332e-10]\n"
     ]
    }
   ],
   "source": [
    "x = jacobi(A, b)\n",
    "errors = np.dot(A, x) - b\n",
    "\n",
    "print(\"Solution: \", x)\n",
    "print(\"Error: \", errors)"
   ]
  },
  {
   "cell_type": "code",
   "execution_count": 66,
   "metadata": {
    "ExecuteTime": {
     "end_time": "2019-01-25T13:42:22.576251Z",
     "start_time": "2019-01-25T13:42:22.568252Z"
    }
   },
   "outputs": [],
   "source": [
    "def jacobi_numpy(a, b):\n",
    "    \"\"\"Perform Jacobi iterative method using numpy functions\n",
    "    \n",
    "    :param a: matrix with dimensions n by n\n",
    "    :param b: matrix with dimensions 1 by n\n",
    "    :return:  matrix with dimensions 1 by n\n",
    "    \"\"\"\n",
    "    # Initial x vector\n",
    "    x = np.zeros(len(A[0]))\n",
    "    \n",
    "    # Number of iterations\n",
    "    N = 30\n",
    "\n",
    "    # Vector of the diagonal elements of A and subtract them from A\n",
    "    D = np.diag(A)\n",
    "    R = A - np.diagflat(D)\n",
    "\n",
    "    # N iterations\n",
    "    for i in range(N):\n",
    "        x = (b - np.dot(R,x)) / D\n",
    "    return x"
   ]
  },
  {
   "cell_type": "code",
   "execution_count": 67,
   "metadata": {
    "ExecuteTime": {
     "end_time": "2019-01-25T13:42:22.593252Z",
     "start_time": "2019-01-25T13:42:22.579250Z"
    }
   },
   "outputs": [
    {
     "name": "stdout",
     "output_type": "stream",
     "text": [
      "Solution:  [ 1.  2. -1.  1.]\n",
      "Error:  [ 7.19939663e-11 -1.32647671e-10  9.33333411e-11 -1.06602727e-10]\n"
     ]
    }
   ],
   "source": [
    "x = jacobi_numpy(A, b)\n",
    "errors = np.dot(A, x) - b\n",
    "\n",
    "print(\"Solution: \", x)\n",
    "print(\"Error: \", errors)"
   ]
  }
 ],
 "metadata": {
  "kernelspec": {
   "display_name": "Python 3",
   "language": "python",
   "name": "python3"
  },
  "language_info": {
   "codemirror_mode": {
    "name": "ipython",
    "version": 3
   },
   "file_extension": ".py",
   "mimetype": "text/x-python",
   "name": "python",
   "nbconvert_exporter": "python",
   "pygments_lexer": "ipython3",
   "version": "3.7.0"
  }
 },
 "nbformat": 4,
 "nbformat_minor": 2
}
